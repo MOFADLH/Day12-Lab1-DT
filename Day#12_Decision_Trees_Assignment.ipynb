{
 "cells": [
  {
   "cell_type": "markdown",
   "id": "d985f77b",
   "metadata": {},
   "source": [
    "|  Column name  |  Description  |\n",
    "| ----- | ------- |\n",
    "| Num_posts        | Number of total posts that the user has ever posted   |\n",
    "| Num_following    | Number of following                                   |\n",
    "| Num_followers    | Number of followers                                   |\n",
    "| Biography_length | Length (number of characters) of the user's biography |\n",
    "| Picture_availability | Value 0 if the user has no profile picture, or 1 if has |\n",
    "| Link_availability| Value 0 if the user has no external URL, or 1 if has |\n",
    "| Average_caption_length | The average number of character of captions in media |\n",
    "| Caption_zero     | Percentage (0.0 to 1.0) of captions that has almost zero (<=3) length |\n",
    "| Non_image_percentage | Percentage (0.0 to 1.0) of non-image media. There are three types of media on an Instagram post, i.e. image, video, carousel\n",
    "| Engagement_rate_like | Engagement rate (ER) is commonly defined as (num likes) divide by (num media) divide by (num followers)\n",
    "| Engagement_rate_comment | Similar to ER like, but it is for comments |\n",
    "| Location_tag_percentage | Percentage (0.0 to 1.0) of posts tagged with location |\n",
    "| Average_hashtag_count   | Average number of hashtags used in a post |\n",
    "| Promotional_keywords | Average use of promotional keywords in hashtag, i.e. regrann, contest, repost, giveaway, mention, share, give away, quiz |\n",
    "| Followers_keywords | Average use of followers hunter keywords in hashtag, i.e. follow, like, folback, follback, f4f|\n",
    "| Cosine_similarity  | Average cosine similarity of between all pair of two posts a user has |\n",
    "| Post_interval      | Average interval between posts (in hours) |\n",
    "| real_fake          | r (real/authentic user), f (fake user/bought followers) |"
   ]
  },
  {
   "cell_type": "markdown",
   "id": "0589474a",
   "metadata": {},
   "source": [
    "# Q1: Import labraries"
   ]
  },
  {
   "cell_type": "code",
   "execution_count": 1,
   "id": "13f00a6a",
   "metadata": {},
   "outputs": [],
   "source": [
    "# To ignore warnings\n",
    "import warnings\n",
    "warnings.filterwarnings(\"ignore\")\n",
    "import pandas as pd\n",
    "import numpy as np\n",
    "import matplotlib.pyplot as plt\n",
    "import seaborn as sns\n",
    "%matplotlib inline"
   ]
  },
  {
   "cell_type": "markdown",
   "id": "fc2557da",
   "metadata": {},
   "source": [
    "# Q2: Read instagram_users.csv file"
   ]
  },
  {
   "cell_type": "code",
   "execution_count": 7,
   "id": "f7c3f583",
   "metadata": {},
   "outputs": [],
   "source": [
    "Data = pd.read_csv('instagram_users.csv')"
   ]
  },
  {
   "cell_type": "code",
   "execution_count": 9,
   "id": "2b4e915f",
   "metadata": {},
   "outputs": [
    {
     "data": {
      "text/html": [
       "<div>\n",
       "<style scoped>\n",
       "    .dataframe tbody tr th:only-of-type {\n",
       "        vertical-align: middle;\n",
       "    }\n",
       "\n",
       "    .dataframe tbody tr th {\n",
       "        vertical-align: top;\n",
       "    }\n",
       "\n",
       "    .dataframe thead th {\n",
       "        text-align: right;\n",
       "    }\n",
       "</style>\n",
       "<table border=\"1\" class=\"dataframe\">\n",
       "  <thead>\n",
       "    <tr style=\"text-align: right;\">\n",
       "      <th></th>\n",
       "      <th>Num_posts</th>\n",
       "      <th>Num_following</th>\n",
       "      <th>Num_followers</th>\n",
       "      <th>Biography_length</th>\n",
       "      <th>Picture_availability</th>\n",
       "      <th>Link_availability</th>\n",
       "      <th>Average_caption_length</th>\n",
       "      <th>Caption_zero</th>\n",
       "      <th>Non_image_percentage</th>\n",
       "      <th>Engagement_rate_like</th>\n",
       "      <th>Engagement_rate_comment</th>\n",
       "      <th>Location_tag_percentage</th>\n",
       "      <th>Average_hashtag_count</th>\n",
       "      <th>Promotional_keywords</th>\n",
       "      <th>Followers_keywords</th>\n",
       "      <th>Cosine_similarity</th>\n",
       "      <th>Post_interval</th>\n",
       "      <th>real_fake</th>\n",
       "    </tr>\n",
       "  </thead>\n",
       "  <tbody>\n",
       "    <tr>\n",
       "      <th>0</th>\n",
       "      <td>44</td>\n",
       "      <td>48</td>\n",
       "      <td>325</td>\n",
       "      <td>33</td>\n",
       "      <td>1</td>\n",
       "      <td>0</td>\n",
       "      <td>12</td>\n",
       "      <td>0.0</td>\n",
       "      <td>0.0</td>\n",
       "      <td>0.00</td>\n",
       "      <td>0.00</td>\n",
       "      <td>0.000</td>\n",
       "      <td>0.0</td>\n",
       "      <td>0.0</td>\n",
       "      <td>0.000</td>\n",
       "      <td>0.111111</td>\n",
       "      <td>0.094985</td>\n",
       "      <td>fake</td>\n",
       "    </tr>\n",
       "    <tr>\n",
       "      <th>1</th>\n",
       "      <td>10</td>\n",
       "      <td>66</td>\n",
       "      <td>321</td>\n",
       "      <td>150</td>\n",
       "      <td>1</td>\n",
       "      <td>0</td>\n",
       "      <td>213</td>\n",
       "      <td>0.0</td>\n",
       "      <td>1.0</td>\n",
       "      <td>14.39</td>\n",
       "      <td>1.97</td>\n",
       "      <td>0.000</td>\n",
       "      <td>1.5</td>\n",
       "      <td>0.0</td>\n",
       "      <td>0.000</td>\n",
       "      <td>0.206826</td>\n",
       "      <td>230.412857</td>\n",
       "      <td>fake</td>\n",
       "    </tr>\n",
       "    <tr>\n",
       "      <th>2</th>\n",
       "      <td>33</td>\n",
       "      <td>970</td>\n",
       "      <td>308</td>\n",
       "      <td>101</td>\n",
       "      <td>1</td>\n",
       "      <td>1</td>\n",
       "      <td>436</td>\n",
       "      <td>0.0</td>\n",
       "      <td>1.0</td>\n",
       "      <td>10.10</td>\n",
       "      <td>0.30</td>\n",
       "      <td>0.000</td>\n",
       "      <td>2.5</td>\n",
       "      <td>0.0</td>\n",
       "      <td>0.056</td>\n",
       "      <td>0.572174</td>\n",
       "      <td>43.569939</td>\n",
       "      <td>fake</td>\n",
       "    </tr>\n",
       "    <tr>\n",
       "      <th>3</th>\n",
       "      <td>70</td>\n",
       "      <td>86</td>\n",
       "      <td>360</td>\n",
       "      <td>14</td>\n",
       "      <td>1</td>\n",
       "      <td>0</td>\n",
       "      <td>0</td>\n",
       "      <td>1.0</td>\n",
       "      <td>0.0</td>\n",
       "      <td>0.78</td>\n",
       "      <td>0.06</td>\n",
       "      <td>0.000</td>\n",
       "      <td>0.0</td>\n",
       "      <td>0.0</td>\n",
       "      <td>0.000</td>\n",
       "      <td>1.000000</td>\n",
       "      <td>5.859799</td>\n",
       "      <td>fake</td>\n",
       "    </tr>\n",
       "    <tr>\n",
       "      <th>4</th>\n",
       "      <td>3</td>\n",
       "      <td>21</td>\n",
       "      <td>285</td>\n",
       "      <td>73</td>\n",
       "      <td>1</td>\n",
       "      <td>0</td>\n",
       "      <td>93</td>\n",
       "      <td>0.0</td>\n",
       "      <td>0.0</td>\n",
       "      <td>14.29</td>\n",
       "      <td>0.00</td>\n",
       "      <td>0.667</td>\n",
       "      <td>0.0</td>\n",
       "      <td>0.0</td>\n",
       "      <td>0.000</td>\n",
       "      <td>0.300494</td>\n",
       "      <td>0.126019</td>\n",
       "      <td>fake</td>\n",
       "    </tr>\n",
       "  </tbody>\n",
       "</table>\n",
       "</div>"
      ],
      "text/plain": [
       "    Num_posts  Num_following  Num_followers  Biography_length  \\\n",
       "0          44             48            325                33   \n",
       "1          10             66            321               150   \n",
       "2          33            970            308               101   \n",
       "3          70             86            360                14   \n",
       "4           3             21            285                73   \n",
       "\n",
       "   Picture_availability  Link_availability  Average_caption_length  \\\n",
       "0                     1                  0                      12   \n",
       "1                     1                  0                     213   \n",
       "2                     1                  1                     436   \n",
       "3                     1                  0                       0   \n",
       "4                     1                  0                      93   \n",
       "\n",
       "   Caption_zero  Non_image_percentage  Engagement_rate_like  \\\n",
       "0           0.0                   0.0                  0.00   \n",
       "1           0.0                   1.0                 14.39   \n",
       "2           0.0                   1.0                 10.10   \n",
       "3           1.0                   0.0                  0.78   \n",
       "4           0.0                   0.0                 14.29   \n",
       "\n",
       "   Engagement_rate_comment  Location_tag_percentage  Average_hashtag_count  \\\n",
       "0                     0.00                    0.000                    0.0   \n",
       "1                     1.97                    0.000                    1.5   \n",
       "2                     0.30                    0.000                    2.5   \n",
       "3                     0.06                    0.000                    0.0   \n",
       "4                     0.00                    0.667                    0.0   \n",
       "\n",
       "   Promotional_keywords  Followers_keywords  Cosine_similarity  Post_interval  \\\n",
       "0                   0.0               0.000           0.111111       0.094985   \n",
       "1                   0.0               0.000           0.206826     230.412857   \n",
       "2                   0.0               0.056           0.572174      43.569939   \n",
       "3                   0.0               0.000           1.000000       5.859799   \n",
       "4                   0.0               0.000           0.300494       0.126019   \n",
       "\n",
       "  real_fake  \n",
       "0      fake  \n",
       "1      fake  \n",
       "2      fake  \n",
       "3      fake  \n",
       "4      fake  "
      ]
     },
     "execution_count": 9,
     "metadata": {},
     "output_type": "execute_result"
    }
   ],
   "source": [
    "Data.head()"
   ]
  },
  {
   "cell_type": "code",
   "execution_count": 12,
   "id": "84155fb3",
   "metadata": {},
   "outputs": [
    {
     "name": "stdout",
     "output_type": "stream",
     "text": [
      "<class 'pandas.core.frame.DataFrame'>\n",
      "RangeIndex: 64244 entries, 0 to 64243\n",
      "Data columns (total 18 columns):\n",
      " #   Column                   Non-Null Count  Dtype  \n",
      "---  ------                   --------------  -----  \n",
      " 0    Num_posts               64244 non-null  int64  \n",
      " 1   Num_following            64244 non-null  int64  \n",
      " 2   Num_followers            64244 non-null  int64  \n",
      " 3   Biography_length         64244 non-null  int64  \n",
      " 4   Picture_availability     64244 non-null  int64  \n",
      " 5   Link_availability        64244 non-null  int64  \n",
      " 6   Average_caption_length   64244 non-null  int64  \n",
      " 7   Caption_zero             64244 non-null  float64\n",
      " 8   Non_image_percentage     64244 non-null  float64\n",
      " 9   Engagement_rate_like     64244 non-null  float64\n",
      " 10  Engagement_rate_comment  64244 non-null  float64\n",
      " 11  Location_tag_percentage  64244 non-null  float64\n",
      " 12  Average_hashtag_count    64244 non-null  float64\n",
      " 13  Promotional_keywords     64244 non-null  float64\n",
      " 14  Followers_keywords       64244 non-null  float64\n",
      " 15  Cosine_similarity        64244 non-null  float64\n",
      " 16  Post_interval            64244 non-null  float64\n",
      " 17  real_fake                64244 non-null  object \n",
      "dtypes: float64(10), int64(7), object(1)\n",
      "memory usage: 8.8+ MB\n"
     ]
    }
   ],
   "source": [
    "Data.info()"
   ]
  },
  {
   "cell_type": "code",
   "execution_count": 22,
   "id": "84f4f81f",
   "metadata": {},
   "outputs": [
    {
     "data": {
      "text/plain": [
       "Index([' Num_posts', 'Num_following', 'Num_followers', 'Biography_length',\n",
       "       'Picture_availability', 'Link_availability', 'Average_caption_length',\n",
       "       'Caption_zero', 'Non_image_percentage', 'Engagement_rate_like',\n",
       "       'Engagement_rate_comment', 'Location_tag_percentage',\n",
       "       'Average_hashtag_count', 'Promotional_keywords', 'Followers_keywords',\n",
       "       'Cosine_similarity', 'Post_interval', 'real_fake'],\n",
       "      dtype='object')"
      ]
     },
     "execution_count": 22,
     "metadata": {},
     "output_type": "execute_result"
    }
   ],
   "source": [
    "Data.columns"
   ]
  },
  {
   "cell_type": "code",
   "execution_count": 23,
   "id": "23f08fa7",
   "metadata": {},
   "outputs": [],
   "source": [
    "X =Data [[' Num_posts', 'Num_following', 'Num_followers', 'Biography_length',\n",
    "       'Picture_availability', 'Link_availability', 'Average_caption_length',\n",
    "       'Caption_zero', 'Non_image_percentage', 'Engagement_rate_like',\n",
    "       'Engagement_rate_comment', 'Location_tag_percentage',\n",
    "       'Average_hashtag_count', 'Promotional_keywords', 'Followers_keywords',\n",
    "       'Cosine_similarity', 'Post_interval']]\n",
    "y = Data [ 'real_fake']"
   ]
  },
  {
   "cell_type": "markdown",
   "id": "63a611cd",
   "metadata": {},
   "source": [
    "# Q3: Split tha dataset into training and testing"
   ]
  },
  {
   "cell_type": "code",
   "execution_count": 25,
   "id": "d8f24bc2",
   "metadata": {},
   "outputs": [],
   "source": [
    "from sklearn.model_selection import train_test_split"
   ]
  },
  {
   "cell_type": "code",
   "execution_count": 26,
   "id": "40c3a841",
   "metadata": {},
   "outputs": [],
   "source": [
    "X_train, X_test, y_train, y_test = train_test_split(X, y, test_size=0.30)"
   ]
  },
  {
   "cell_type": "markdown",
   "id": "6db25de6",
   "metadata": {},
   "source": [
    "# Q4: Build three machine models "
   ]
  },
  {
   "cell_type": "markdown",
   "id": "2a9943d1",
   "metadata": {},
   "source": [
    "## Q4.1: The first machine model\n",
    "- Print the model's name.\n",
    "- Print the model's accuracy.\n",
    "- Print the model's confusion matrix."
   ]
  },
  {
   "cell_type": "code",
   "execution_count": 28,
   "id": "0e8f4d29",
   "metadata": {},
   "outputs": [],
   "source": [
    "from sklearn.tree import DecisionTreeClassifier\n",
    "dtree = DecisionTreeClassifier()"
   ]
  },
  {
   "cell_type": "code",
   "execution_count": 29,
   "id": "7a25cc42",
   "metadata": {},
   "outputs": [
    {
     "data": {
      "text/plain": [
       "DecisionTreeClassifier()"
      ]
     },
     "execution_count": 29,
     "metadata": {},
     "output_type": "execute_result"
    }
   ],
   "source": [
    "dtree.fit(X_train,y_train)"
   ]
  },
  {
   "cell_type": "code",
   "execution_count": 30,
   "id": "7aa80ce8",
   "metadata": {},
   "outputs": [],
   "source": [
    "predictions = dtree.predict(X_test)"
   ]
  },
  {
   "cell_type": "code",
   "execution_count": 31,
   "id": "db3a8e8b",
   "metadata": {},
   "outputs": [],
   "source": [
    "from sklearn.metrics import classification_report,confusion_matrix, accuracy_score\n"
   ]
  },
  {
   "cell_type": "code",
   "execution_count": 32,
   "id": "9603219e",
   "metadata": {},
   "outputs": [
    {
     "name": "stdout",
     "output_type": "stream",
     "text": [
      "              precision    recall  f1-score   support\n",
      "\n",
      "        fake       0.84      0.86      0.85      9549\n",
      "        real       0.86      0.84      0.85      9725\n",
      "\n",
      "    accuracy                           0.85     19274\n",
      "   macro avg       0.85      0.85      0.85     19274\n",
      "weighted avg       0.85      0.85      0.85     19274\n",
      "\n"
     ]
    }
   ],
   "source": [
    "print(classification_report(y_test,predictions))"
   ]
  },
  {
   "cell_type": "code",
   "execution_count": 33,
   "id": "25f1969c",
   "metadata": {},
   "outputs": [
    {
     "name": "stdout",
     "output_type": "stream",
     "text": [
      "0.851613572688596\n"
     ]
    }
   ],
   "source": [
    "print(accuracy_score(y_test,predictions))"
   ]
  },
  {
   "cell_type": "code",
   "execution_count": 34,
   "id": "d00f7679",
   "metadata": {},
   "outputs": [
    {
     "name": "stdout",
     "output_type": "stream",
     "text": [
      "[[8236 1313]\n",
      " [1547 8178]]\n"
     ]
    }
   ],
   "source": [
    "print(confusion_matrix(y_test,predictions))"
   ]
  },
  {
   "cell_type": "code",
   "execution_count": 38,
   "id": "cf5f7f0f",
   "metadata": {},
   "outputs": [
    {
     "data": {
      "image/png": "[encoded data removed]",
      "text/plain": [
       "<Figure size 432x288 with 2 Axes>"
      ]
     },
     "metadata": {
      "needs_background": "light"
     },
     "output_type": "display_data"
    }
   ],
   "source": [
    "from sklearn.metrics import plot_confusion_matrix\n",
    "plot_confusion_matrix(dtree, X_test, y_test, cmap ='BuGn')  \n",
    "plt.show()"
   ]
  },
  {
   "cell_type": "markdown",
   "id": "55c11dc4",
   "metadata": {},
   "source": [
    "## Q4.2: The second machine model\n",
    "- Print the model's name.\n",
    "- Print the model's accuracy.\n",
    "- Print the model's confusion matrix."
   ]
  },
  {
   "cell_type": "code",
   "execution_count": 39,
   "id": "b37a0953",
   "metadata": {},
   "outputs": [
    {
     "data": {
      "text/plain": [
       "RandomForestClassifier()"
      ]
     },
     "execution_count": 39,
     "metadata": {},
     "output_type": "execute_result"
    }
   ],
   "source": [
    "from sklearn.ensemble import RandomForestClassifier\n",
    "rfc = RandomForestClassifier(n_estimators=100)\n",
    "rfc.fit(X_train, y_train)"
   ]
  },
  {
   "cell_type": "code",
   "execution_count": 47,
   "id": "7a8fb601",
   "metadata": {},
   "outputs": [
    {
     "name": "stdout",
     "output_type": "stream",
     "text": [
      "              precision    recall  f1-score   support\n",
      "\n",
      "        fake       0.95      0.85      0.89      9549\n",
      "        real       0.86      0.95      0.91      9725\n",
      "\n",
      "    accuracy                           0.90     19274\n",
      "   macro avg       0.91      0.90      0.90     19274\n",
      "weighted avg       0.90      0.90      0.90     19274\n",
      "\n"
     ]
    }
   ],
   "source": [
    "print(classification_report(y_test,rfc_pred))"
   ]
  },
  {
   "cell_type": "code",
   "execution_count": 48,
   "id": "852871a4",
   "metadata": {},
   "outputs": [
    {
     "name": "stdout",
     "output_type": "stream",
     "text": [
      "0.851613572688596\n"
     ]
    }
   ],
   "source": [
    "print(accuracy_score(y_test,predictions))"
   ]
  },
  {
   "cell_type": "markdown",
   "id": "311f9f19",
   "metadata": {},
   "source": [
    "## Q4.3: The third machine model\n",
    "- Print the model's name.\n",
    "- Print the model's accuracy.\n",
    "- Print the model's confusion matrix."
   ]
  },
  {
   "cell_type": "code",
   "execution_count": 49,
   "id": "f73c0c18",
   "metadata": {},
   "outputs": [],
   "source": [
    "from  sklearn.linear_model import LogisticRegression"
   ]
  },
  {
   "cell_type": "code",
   "execution_count": 54,
   "id": "e39b4ac4",
   "metadata": {},
   "outputs": [],
   "source": [
    "logmodel = LogisticRegression()\n",
    "logmodel.fit(X_train,y_train)\n",
    "\n",
    "pred = logmodel.predict(X_test)"
   ]
  },
  {
   "cell_type": "code",
   "execution_count": 55,
   "id": "159205ec",
   "metadata": {},
   "outputs": [
    {
     "name": "stdout",
     "output_type": "stream",
     "text": [
      "[[6530 3019]\n",
      " [1611 8114]]\n",
      "              precision    recall  f1-score   support\n",
      "\n",
      "        fake       0.80      0.68      0.74      9549\n",
      "        real       0.73      0.83      0.78      9725\n",
      "\n",
      "    accuracy                           0.76     19274\n",
      "   macro avg       0.77      0.76      0.76     19274\n",
      "weighted avg       0.77      0.76      0.76     19274\n",
      "\n"
     ]
    }
   ],
   "source": [
    "print(confusion_matrix(y_test,pred))\n",
    "print(classification_report(y_test,pred))"
   ]
  },
  {
   "cell_type": "code",
   "execution_count": 56,
   "id": "6ffccb9e",
   "metadata": {},
   "outputs": [
    {
     "name": "stdout",
     "output_type": "stream",
     "text": [
      "0.7597800145273426\n"
     ]
    }
   ],
   "source": [
    "print(accuracy_score(y_test,pred))"
   ]
  },
  {
   "cell_type": "code",
   "execution_count": 57,
   "id": "2c52c8a1",
   "metadata": {},
   "outputs": [
    {
     "name": "stdout",
     "output_type": "stream",
     "text": [
      "Confusion matrix\n"
     ]
    },
    {
     "data": {
      "image/png": "[encoded data removed]",
      "text/plain": [
       "<Figure size 432x288 with 2 Axes>"
      ]
     },
     "metadata": {
      "needs_background": "light"
     },
     "output_type": "display_data"
    }
   ],
   "source": [
    "print ('Confusion matrix')\n",
    "plot_confusion_matrix(logmodel, X_test, y_test, cmap ='BuGn')  \n",
    "plt.show()"
   ]
  }
 ],
 "metadata": {
  "kernelspec": {
   "display_name": "Python 3 (ipykernel)",
   "language": "python",
   "name": "python3"
  },
  "language_info": {
   "codemirror_mode": {
    "name": "ipython",
    "version": 3
   },
   "file_extension": ".py",
   "mimetype": "text/x-python",
   "name": "python",
   "nbconvert_exporter": "python",
   "pygments_lexer": "ipython3",
   "version": "3.9.12"
  }
 },
 "nbformat": 4,
 "nbformat_minor": 5
}
